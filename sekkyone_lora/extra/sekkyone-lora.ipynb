{
 "cells": [
  {
   "cell_type": "markdown",
   "metadata": {},
   "source": [
    "# Sekkyone - LoRa Network Experiment - IoT Course 2020/2021"
   ]
  },
  {
   "cell_type": "markdown",
   "metadata": {},
   "source": [
    "## Setting up Experiment nodes"
   ]
  },
  {
   "cell_type": "code",
   "execution_count": null,
   "metadata": {},
   "outputs": [],
   "source": [
    "%env SITE=saclay"
   ]
  },
  {
   "cell_type": "code",
   "execution_count": null,
   "metadata": {},
   "outputs": [],
   "source": [
    "%env NODES=1"
   ]
  },
  {
   "cell_type": "code",
   "execution_count": null,
   "metadata": {},
   "outputs": [],
   "source": [
    "%env EXP_LENGTH=180"
   ]
  },
  {
   "cell_type": "code",
   "execution_count": null,
   "metadata": {},
   "outputs": [],
   "source": [
    "!iotlab-experiment submit -n \"sekkyone_lora\" -d $EXP_LENGTH -l $NODES,archi=st-lrwan1:sx1276+site=$SITE"
   ]
  },
  {
   "cell_type": "code",
   "execution_count": null,
   "metadata": {},
   "outputs": [],
   "source": [
    "!iotlab-experiment wait --timeout 60 --cancel-on-timeout"
   ]
  },
  {
   "cell_type": "markdown",
   "metadata": {},
   "source": [
    "When experiment gets in \"Running\" state, view what nodes IoTLab assign to us"
   ]
  },
  {
   "cell_type": "code",
   "execution_count": null,
   "metadata": {},
   "outputs": [],
   "source": [
    "!iotlab-experiment --jmespath=\"items[*].network_address | sort(@)\" get --nodes"
   ]
  },
  {
   "cell_type": "markdown",
   "metadata": {},
   "source": [
    "## Firmware compiling and flashing\n",
    "\n",
    "Open a Jupyter terminal (use `File > New > Terminal`) and run the following commands from it.\n",
    "\n",
    "`ssh $IOTLAB_LOGIN@$SITE.iot-lab.info`\n",
    "\n",
    "`source /opt/riot.source`\n",
    "\n",
    "Move to the \"dev\" folder and run\n",
    "\n",
    "`make TTN_DEV_ID=<DEV_ID> -C <path_to_main.c> clean all`\n",
    "\n",
    "`iotlab-node --flash <path_to_firmware> -l <SITE>,st-lrwan1,<ID>`\n",
    "\n",
    "`nc st-lrwan1-<ID> 20000`\n",
    "\n",
    "Where:\n",
    "* TTN_DEV_ID is the device ID in \"TheThingsNetwork\"\n",
    "* ID is the node number id\n",
    "* SITE is IoTLab base, like Saclay, Grenoble..."
   ]
  },
  {
   "cell_type": "markdown",
   "metadata": {},
   "source": [
    "## Stopping experiment\n",
    "\n",
    "Once done experimenting, free up the occupied resources"
   ]
  },
  {
   "cell_type": "code",
   "execution_count": null,
   "metadata": {},
   "outputs": [],
   "source": [
    "!iotlab-experiment stop"
   ]
  }
 ],
 "metadata": {
  "kernelspec": {
   "display_name": "Python 3",
   "language": "python",
   "name": "python3"
  },
  "language_info": {
   "codemirror_mode": {
    "name": "ipython",
    "version": 3
   },
   "file_extension": ".py",
   "mimetype": "text/x-python",
   "name": "python",
   "nbconvert_exporter": "python",
   "pygments_lexer": "ipython3",
   "version": "3.8.6"
  }
 },
 "nbformat": 4,
 "nbformat_minor": 4
}
