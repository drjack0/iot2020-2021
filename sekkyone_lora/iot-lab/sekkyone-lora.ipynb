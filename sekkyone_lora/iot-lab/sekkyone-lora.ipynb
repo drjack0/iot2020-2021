{
 "cells": [
  {
   "cell_type": "markdown",
   "metadata": {},
   "source": [
    "## IoT 2021 - Assignment #3"
   ]
  },
  {
   "cell_type": "code",
   "execution_count": 1,
   "metadata": {},
   "outputs": [
    {
     "name": "stdout",
     "output_type": "stream",
     "text": [
      "env: SITE=saclay\n"
     ]
    }
   ],
   "source": [
    "%env SITE=saclay"
   ]
  },
  {
   "cell_type": "code",
   "execution_count": 2,
   "metadata": {},
   "outputs": [
    {
     "name": "stdout",
     "output_type": "stream",
     "text": [
      "env: NODES=1\n"
     ]
    }
   ],
   "source": [
    "%env NODES=1"
   ]
  },
  {
   "cell_type": "code",
   "execution_count": 3,
   "metadata": {
    "jupyter": {
     "source_hidden": true
    }
   },
   "outputs": [
    {
     "name": "stdout",
     "output_type": "stream",
     "text": [
      "env: LENGTH=180\n"
     ]
    }
   ],
   "source": [
    "%env LENGTH=180"
   ]
  },
  {
   "cell_type": "code",
   "execution_count": 4,
   "metadata": {},
   "outputs": [
    {
     "name": "stdout",
     "output_type": "stream",
     "text": [
      "{\n",
      "    \"id\": 268431\n",
      "}\n"
     ]
    }
   ],
   "source": [
    "!iotlab-experiment submit -n \"IndAss3\" -d $LENGTH -l $NODES,archi=st-lrwan1:sx1276+site=$SITE"
   ]
  },
  {
   "cell_type": "code",
   "execution_count": 5,
   "metadata": {},
   "outputs": [
    {
     "name": "stdout",
     "output_type": "stream",
     "text": [
      "Waiting that experiment 268431 gets in state Running\n",
      "\"Running\"\n"
     ]
    }
   ],
   "source": [
    "!iotlab-experiment wait --timeout 60 --cancel-on-timeout"
   ]
  },
  {
   "cell_type": "code",
   "execution_count": 6,
   "metadata": {},
   "outputs": [
    {
     "name": "stdout",
     "output_type": "stream",
     "text": [
      "[\n",
      "    \"st-lrwan1-10.saclay.iot-lab.info\"\n",
      "]\n"
     ]
    }
   ],
   "source": [
    "!iotlab-experiment --jmespath=\"items[*].network_address | sort(@)\" get --nodes"
   ]
  },
  {
   "cell_type": "markdown",
   "metadata": {},
   "source": [
    "## Compile and flash the firmware to the node\\[s]\n",
    "\n",
    "Open a Jupyter terminal (use `File > New > Terminal`) and run the following commands from it.\n",
    "\n",
    "`ssh $IOTLAB_LOGIN@$SITE.iot-lab.info`\n",
    "\n",
    "`source /opt/riot.source`\n",
    "\n",
    "`make TTN_DEV_ID=<DEV_ID> -C <path_to_main.c> clean all`\n",
    "\n",
    "`iotlab-node --flash <path_to_firmware> -l saclay,st-lrwan1,<ID>`\n",
    "\n",
    "`nc st-lrwan1-<ID> 20000`"
   ]
  },
  {
   "cell_type": "markdown",
   "metadata": {},
   "source": [
    "## End\n",
    "\n",
    "Once done experimenting, free up the occupied resources"
   ]
  },
  {
   "cell_type": "code",
   "execution_count": 7,
   "metadata": {},
   "outputs": [
    {
     "name": "stdout",
     "output_type": "stream",
     "text": [
      "{\n",
      "    \"id\": 268431,\n",
      "    \"status\": \"Delete request registered\"\n",
      "}\n"
     ]
    }
   ],
   "source": [
    "!iotlab-experiment stop"
   ]
  }
 ],
 "metadata": {
  "kernelspec": {
   "display_name": "Python 3",
   "language": "python",
   "name": "python3"
  },
  "language_info": {
   "codemirror_mode": {
    "name": "ipython",
    "version": 3
   },
   "file_extension": ".py",
   "mimetype": "text/x-python",
   "name": "python",
   "nbconvert_exporter": "python",
   "pygments_lexer": "ipython3",
   "version": "3.8.6"
  }
 },
 "nbformat": 4,
 "nbformat_minor": 4
}