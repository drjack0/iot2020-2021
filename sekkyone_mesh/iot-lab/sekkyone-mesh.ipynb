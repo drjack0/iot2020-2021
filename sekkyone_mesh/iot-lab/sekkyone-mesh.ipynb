{
 "cells": [
  {
   "cell_type": "markdown",
   "metadata": {},
   "source": [
    "## Sekkyone - IPV6 Network Experiment - IoT Course 2020/2021\n",
    "\n",
    "#### Radio settings\n",
    "\n",
    "The following cells give us random value for *CHANNEL*, in order to avoid busy channels and possible collisions"
   ]
  },
  {
   "cell_type": "code",
   "execution_count": 1,
   "metadata": {},
   "outputs": [
    {
     "name": "stdout",
     "output_type": "stream",
     "text": [
      "env: SITE=saclay\n"
     ]
    }
   ],
   "source": [
    "%env SITE=saclay"
   ]
  },
  {
   "cell_type": "code",
   "execution_count": 10,
   "metadata": {},
   "outputs": [
    {
     "name": "stdout",
     "output_type": "stream",
     "text": [
      "jovyan\n"
     ]
    }
   ],
   "source": [
    "!whoami"
   ]
  },
  {
   "cell_type": "code",
   "execution_count": 6,
   "metadata": {},
   "outputs": [
    {
     "name": "stdout",
     "output_type": "stream",
     "text": [
      "Use CHANNEL=16\n"
     ]
    }
   ],
   "source": [
    "import random\n",
    "channel = random.randint(11, 26)\n",
    "print('Use CHANNEL={}'.format(channel))"
   ]
  },
  {
   "cell_type": "code",
   "execution_count": 7,
   "metadata": {},
   "outputs": [
    {
     "name": "stdout",
     "output_type": "stream",
     "text": [
      "16\n"
     ]
    }
   ],
   "source": [
    "print(channel)"
   ]
  },
  {
   "cell_type": "code",
   "execution_count": null,
   "metadata": {},
   "outputs": [],
   "source": [
    "%env CHANNEL=11"
   ]
  },
  {
   "cell_type": "markdown",
   "metadata": {},
   "source": [
    "## Experiment Submitting"
   ]
  },
  {
   "cell_type": "markdown",
   "metadata": {},
   "source": [
    "In order to start our experiment, we will use, at the moment, the following configuration of nodes:\n",
    "* n.1  a8 node  -> Its purpose is to provide us an MQTT-Bridge beetween nodes and IoT Corre\n",
    "* n.1  m3 node  -> It will be our border router\n",
    "* n.2+ m3 nodes -> They will run our application firmware"
   ]
  },
  {
   "cell_type": "code",
   "execution_count": 9,
   "metadata": {},
   "outputs": [
    {
     "name": "stdout",
     "output_type": "stream",
     "text": [
      "usage: iotlab-experiment submit [-h] [-p] [-n NAME] -d DURATION\n",
      "                                [-r RESERVATION] -l NODES_LIST\n",
      "                                [-s SITE_ASSOCIATION] [--help-list]\n",
      "                                [--help-site-association]\n",
      "iotlab-experiment submit: error: argument -l/--list: Invalid arguments in experiment list '4,archi=m3:at86rf231+site=': Invalid empty value for property \"site\"\n"
     ]
    }
   ],
   "source": [
    "!iotlab-experiment submit -n riot_m3 -d 120 -l 4,archi=m3:at86rf231+site=$SITE -l 1,archi=a8:at86rf231+site=$SITE"
   ]
  },
  {
   "cell_type": "code",
   "execution_count": null,
   "metadata": {},
   "outputs": [],
   "source": [
    "!iotlab-experiment wait --timeout 60 --cancel-on-timeout"
   ]
  },
  {
   "cell_type": "markdown",
   "metadata": {},
   "source": [
    "Use the following commands for additional info about the reserved nodes:"
   ]
  },
  {
   "cell_type": "code",
   "execution_count": null,
   "metadata": {},
   "outputs": [],
   "source": [
    "!iotlab-experiment get -i <EXPERIMENT_ID> -p"
   ]
  },
  {
   "cell_type": "code",
   "execution_count": null,
   "metadata": {},
   "outputs": [],
   "source": [
    "!iotlab-experiment get -i <EXPERIMENT_ID> -n"
   ]
  },
  {
   "cell_type": "markdown",
   "metadata": {},
   "source": [
    "## Build and Flash firmwares\n",
    "\n",
    "Open a Jupyter terminal (use `File > New > Terminal`) and run the following commands from it."
   ]
  },
  {
   "cell_type": "raw",
   "metadata": {},
   "source": [
    "ssh $IOTLAB_LOGIN@$SITE.iot-lab.info"
   ]
  },
  {
   "cell_type": "markdown",
   "metadata": {},
   "source": [
    "The following command needs to be run ONLY once"
   ]
  },
  {
   "cell_type": "raw",
   "metadata": {},
   "source": [
    "cd A8 && git clone https://github.com/RIOT-OS/RIOT.git"
   ]
  },
  {
   "cell_type": "markdown",
   "metadata": {},
   "source": [
    "We will use minimum 3 distrinct terminals for building and flashing firmwares"
   ]
  },
  {
   "cell_type": "markdown",
   "metadata": {},
   "source": [
    "### Border Router\n",
    "Execute the following commands, by replacing the \\<PLACEHOLDERS> with real info:"
   ]
  },
  {
   "cell_type": "markdown",
   "metadata": {},
   "source": [
    "`source /opt/riot.source`"
   ]
  },
  {
   "cell_type": "markdown",
   "metadata": {},
   "source": [
    "`cd RIOT`"
   ]
  },
  {
   "cell_type": "markdown",
   "metadata": {},
   "source": [
    "`make ETHOS_BAUDRATE=500000 DEFAULT_CHANNEL=<CHANNEL> BOARD=iotlab-m3 -C examples/gnrc_border_router clean all`"
   ]
  },
  {
   "cell_type": "markdown",
   "metadata": {},
   "source": [
    "`iotlab-node --flash examples/gnrc_border_router/bin/iotlab-m3/gnrc_border_router.elf -l saclay,m3,<ID>`"
   ]
  },
  {
   "cell_type": "markdown",
   "metadata": {},
   "source": [
    "`sudo ethos_uhcpd.py m3-<ID> tap<K> 2001:660:3207:04c1::1/64`"
   ]
  },
  {
   "cell_type": "markdown",
   "metadata": {},
   "source": [
    "Where:\n",
    "1. `DEFAULT_CHANNEL` refers to the ENV variable added on top\n",
    "2. `ID` is the M3 node number (ex: m3-1, ID is \"1\")\n",
    "3. `K` is the tap interface number (ex: tap0, tap1...)\n",
    "\n",
    "Always check that the interface and the channel are free"
   ]
  },
  {
   "cell_type": "markdown",
   "metadata": {},
   "source": [
    "### MQTT-SN broker\n",
    "We will use mosquitto.rsmb for communicating with the EC2 machine. Execute the following commands:"
   ]
  },
  {
   "cell_type": "markdown",
   "metadata": {},
   "source": [
    "Create the following file inside the A8 folder:\n"
   ]
  },
  {
   "cell_type": "raw",
   "metadata": {},
   "source": [
    "# add some debug output\n",
    "trace_output protocol\n",
    "   \n",
    "# listen for MQTT-SN traffic on UDP port 1885\n",
    "listener 1885 INADDR_ANY mqtts\n",
    "  ipv6 true\n",
    "   \n",
    "# listen to MQTT connections on tcp port 1886\n",
    "listener 1886 INADDR_ANY\n",
    "\n",
    "connection local_bridge_to_mosquitto\n",
    "    address <EC2_PUBLIC_IPV4_ADDR>:<PORT>\n",
    "    topic sekkyone_out out\n",
    "    topic sekkyone_in in"
   ]
  },
  {
   "cell_type": "markdown",
   "metadata": {},
   "source": [
    "`ssh root@node-a8-<ID>`\n"
   ]
  },
  {
   "cell_type": "markdown",
   "metadata": {},
   "source": [
    "`cd A8`"
   ]
  },
  {
   "cell_type": "markdown",
   "metadata": {},
   "source": [
    "`ip -6 -o addr show eth0` // TO GET THE IP Address of the MQTT broker, global link"
   ]
  },
  {
   "cell_type": "markdown",
   "metadata": {},
   "source": [
    "`broker_mqtts config.conf`"
   ]
  },
  {
   "cell_type": "markdown",
   "metadata": {},
   "source": [
    "### Sekkyone application firmware\n",
    "For all the remaining reserved m3 nodes, execute the following commands:"
   ]
  },
  {
   "cell_type": "markdown",
   "metadata": {},
   "source": [
    "`source /opt/riot.source`"
   ]
  },
  {
   "cell_type": "markdown",
   "metadata": {},
   "source": [
    "`cd dev`"
   ]
  },
  {
   "cell_type": "markdown",
   "metadata": {},
   "source": [
    "where dev is the folder where `main.c` and `makefile` files are contained"
   ]
  },
  {
   "cell_type": "markdown",
   "metadata": {},
   "source": [
    "`make DEFAULT_CHANNEL=<CHANNEL> SERVER_ADDR=<MQTT_SERVER_ADDR> EMCUTE_ID=station_<K> BOARD=iotlab-m3 -C . clean all`"
   ]
  },
  {
   "cell_type": "markdown",
   "metadata": {},
   "source": [
    "`iotlab-node --flash ./bin/iotlab-m3/sekkyone_mesh_network.elf -l saclay,m3,<ID>`"
   ]
  },
  {
   "cell_type": "markdown",
   "metadata": {},
   "source": [
    "Eventually, nc to the node\\[s\\] to see if everything works fine:"
   ]
  },
  {
   "cell_type": "markdown",
   "metadata": {},
   "source": [
    "`nc m3-<ID> 20000`"
   ]
  },
  {
   "cell_type": "markdown",
   "metadata": {},
   "source": [
    "### Free up the resources\n",
    "\n",
    "Once done, stop your experiment to free up the experiment nodes:"
   ]
  },
  {
   "cell_type": "code",
   "execution_count": null,
   "metadata": {},
   "outputs": [],
   "source": [
    "!iotlab-experiment stop"
   ]
  },
  {
   "cell_type": "markdown",
   "metadata": {},
   "source": [
    "## Performance Evaluation"
   ]
  },
  {
   "cell_type": "code",
   "execution_count": null,
   "metadata": {},
   "outputs": [],
   "source": [
    "!unzip perf.zip"
   ]
  },
  {
   "cell_type": "code",
   "execution_count": null,
   "metadata": {},
   "outputs": [],
   "source": [
    "!ls perf/tst3/266481/consumption"
   ]
  },
  {
   "cell_type": "code",
   "execution_count": null,
   "metadata": {},
   "outputs": [],
   "source": [
    "import pandas"
   ]
  },
  {
   "cell_type": "code",
   "execution_count": null,
   "metadata": {},
   "outputs": [],
   "source": [
    "dataset = pandas.read_csv(\"./perf/tst3/266481/consumption/m3_2.oml\", sep='\\t', skiprows=9, header=0, names=[\"timestamp_s\", \"timestamp_us\", 'ign1', 'ign2', \"power\", \"voltage\", \"current\"])"
   ]
  },
  {
   "cell_type": "code",
   "execution_count": null,
   "metadata": {},
   "outputs": [],
   "source": [
    "dataset"
   ]
  },
  {
   "cell_type": "code",
   "execution_count": null,
   "metadata": {},
   "outputs": [],
   "source": [
    "ax = dataset.power.plot(figsize=(14,4), label='Power (W)')\n",
    "ax.set_ylabel('Power (W)')\n",
    "ax.set_xlabel('Time (ms)')"
   ]
  },
  {
   "cell_type": "code",
   "execution_count": null,
   "metadata": {},
   "outputs": [],
   "source": [
    "ax = dataset.current.plot(figsize=(14,4), label='Current (mAh)')\n",
    "ax.set_ylabel('Current (mAh)')\n",
    "ax.set_xlabel('Time (ms)')"
   ]
  },
  {
   "cell_type": "code",
   "execution_count": null,
   "metadata": {},
   "outputs": [],
   "source": [
    "ax = dataset.voltage.plot(figsize=(14,4), label='Voltage (V)')\n",
    "ax.set_ylabel('Voltage (V)')\n",
    "ax.set_xlabel('Time (ms)')"
   ]
  },
  {
   "cell_type": "code",
   "execution_count": null,
   "metadata": {},
   "outputs": [],
   "source": [
    "!ls perf/tst1/266474/radio"
   ]
  },
  {
   "cell_type": "code",
   "execution_count": null,
   "metadata": {},
   "outputs": [],
   "source": [
    "dataset2 = pandas.read_csv(\"./perf/tst3/266481/radio/m3_2.oml\", sep='\\t', skiprows=9, header=0, names=[\"timestamp_s\", \"timestamp_us\", \"channel\", \"rssi\"])"
   ]
  },
  {
   "cell_type": "code",
   "execution_count": null,
   "metadata": {},
   "outputs": [],
   "source": [
    "dataset2"
   ]
  },
  {
   "cell_type": "code",
   "execution_count": null,
   "metadata": {},
   "outputs": [],
   "source": [
    "ax = dataset2.rssi.plot(figsize=(14,4), label='RSSI (dBm)')\n",
    "ax.set_ylabel('RSSI (dBm)')\n"
   ]
  }
 ],
 "metadata": {
  "kernelspec": {
   "display_name": "Python 3",
   "language": "python",
   "name": "python3"
  },
  "language_info": {
   "codemirror_mode": {
    "name": "ipython",
    "version": 3
   },
   "file_extension": ".py",
   "mimetype": "text/x-python",
   "name": "python",
   "nbconvert_exporter": "python",
   "pygments_lexer": "ipython3",
   "version": "3.8.6"
  }
 },
 "nbformat": 4,
 "nbformat_minor": 4
}
