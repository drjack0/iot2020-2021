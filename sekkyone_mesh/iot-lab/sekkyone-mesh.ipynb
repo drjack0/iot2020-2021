{
 "cells": [
  {
   "cell_type": "markdown",
   "metadata": {},
   "source": [
    "## Sekkyone - IPV6 Network Experiment - IoT Course 2020/2021\n",
    "\n",
    "#### Radio settings\n",
    "\n",
    "The following cells give us random value for *CHANNEL*, in order to avoid busy channels and possible collisions"
   ]
  },
  {
   "cell_type": "code",
   "execution_count": 1,
   "metadata": {},
   "outputs": [
    {
     "name": "stdout",
     "output_type": "stream",
     "text": [
      "env: SITE=saclay\n"
     ]
    }
   ],
   "source": [
    "%env SITE=saclay"
   ]
  },
  {
   "cell_type": "code",
   "execution_count": 2,
   "metadata": {},
   "outputs": [
    {
     "name": "stdout",
     "output_type": "stream",
     "text": [
      "env: LOGIN=giaccone\n"
     ]
    }
   ],
   "source": [
    "%env LOGIN=giaccone"
   ]
  },
  {
   "cell_type": "code",
   "execution_count": 3,
   "metadata": {},
   "outputs": [
    {
     "name": "stdout",
     "output_type": "stream",
     "text": [
      "Use CHANNEL=23\n"
     ]
    }
   ],
   "source": [
    "import random\n",
    "channel = random.randint(11, 26)\n",
    "print('Use CHANNEL={}'.format(channel))"
   ]
  },
  {
   "cell_type": "code",
   "execution_count": 4,
   "metadata": {},
   "outputs": [
    {
     "name": "stdout",
     "output_type": "stream",
     "text": [
      "23\n"
     ]
    }
   ],
   "source": [
    "print(channel)"
   ]
  },
  {
   "cell_type": "code",
   "execution_count": 5,
   "metadata": {},
   "outputs": [
    {
     "name": "stdout",
     "output_type": "stream",
     "text": [
      "env: CHANNEL=23\n"
     ]
    }
   ],
   "source": [
    "%env CHANNEL=23"
   ]
  },
  {
   "cell_type": "markdown",
   "metadata": {},
   "source": [
    "## Experiment Submitting"
   ]
  },
  {
   "cell_type": "markdown",
   "metadata": {},
   "source": [
    "In order to start our experiment, we will use, at the moment, the following configuration of nodes:\n",
    "* n.1  a8 node  -> Its purpose is to provide us an MQTT-Bridge beetween nodes and IoT Corre\n",
    "* n.1  m3 node  -> It will be our border router\n",
    "* n.2+ m3 nodes -> They will run our application firmware"
   ]
  },
  {
   "cell_type": "code",
   "execution_count": 14,
   "metadata": {},
   "outputs": [
    {
     "name": "stdout",
     "output_type": "stream",
     "text": [
      "{\n",
      "    \"id\": 270129\n",
      "}\n"
     ]
    }
   ],
   "source": [
    "!iotlab-experiment submit -n riot_m3 -d 120 -l 4,archi=m3:at86rf231+site=$SITE,,sekkyone_mesh_m3 -l 1,archi=a8:at86rf231+site=$SITE,,sekkyone_mesh_a8"
   ]
  },
  {
   "cell_type": "code",
   "execution_count": 15,
   "metadata": {},
   "outputs": [
    {
     "name": "stdout",
     "output_type": "stream",
     "text": [
      "Waiting that experiment 270129 gets in state Running\n",
      "\"Running\"\n"
     ]
    }
   ],
   "source": [
    "!iotlab-experiment wait --timeout 60 --cancel-on-timeout"
   ]
  },
  {
   "cell_type": "markdown",
   "metadata": {},
   "source": [
    "Set the *EXPERIMENT_ID* output as a environmental variable and use the following commands for additional info about the reserved nodes:"
   ]
  },
  {
   "cell_type": "code",
   "execution_count": 17,
   "metadata": {},
   "outputs": [
    {
     "name": "stdout",
     "output_type": "stream",
     "text": [
      "env: EXPERIMENT_ID=270129\n"
     ]
    }
   ],
   "source": [
    "%env EXPERIMENT_ID=270129"
   ]
  },
  {
   "cell_type": "code",
   "execution_count": null,
   "metadata": {},
   "outputs": [],
   "source": [
    "!iotlab-experiment get -i $EXPERIMENT_ID -p"
   ]
  },
  {
   "cell_type": "code",
   "execution_count": null,
   "metadata": {},
   "outputs": [],
   "source": [
    "!iotlab-experiment get -i $EXPERIMENT_ID -n"
   ]
  },
  {
   "cell_type": "markdown",
   "metadata": {},
   "source": [
    "Now, set, as environmental variables, *ID*'s of the m3 and a8 nodes"
   ]
  },
  {
   "cell_type": "code",
   "execution_count": 19,
   "metadata": {},
   "outputs": [
    {
     "name": "stdout",
     "output_type": "stream",
     "text": [
      "env: A8_NODE=100\n",
      "env: M3_BORDER=9\n",
      "env: M3_NODE_1=10\n",
      "env: M3_NODE_2=11\n",
      "env: M3_NODE_3=12\n"
     ]
    }
   ],
   "source": [
    "%env A8_NODE=100\n",
    "%env M3_BORDER=9\n",
    "%env M3_NODE_1=10\n",
    "%env M3_NODE_2=11\n",
    "%env M3_NODE_3=12"
   ]
  },
  {
   "cell_type": "markdown",
   "metadata": {},
   "source": [
    "## Build and Flash firmwares\n",
    "\n",
    "Open a Jupyter terminal (use `File > New > Terminal`) and run the following commands from it."
   ]
  },
  {
   "cell_type": "raw",
   "metadata": {},
   "source": [
    "ssh $IOTLAB_LOGIN@$SITE.iot-lab.info"
   ]
  },
  {
   "cell_type": "markdown",
   "metadata": {},
   "source": [
    "The following command needs to be run ONLY once"
   ]
  },
  {
   "cell_type": "raw",
   "metadata": {},
   "source": [
    "cd A8 && git clone https://github.com/RIOT-OS/RIOT.git"
   ]
  },
  {
   "cell_type": "markdown",
   "metadata": {},
   "source": [
    "We will use minimum 3 distrinct terminals for building and flashing firmwares"
   ]
  },
  {
   "cell_type": "markdown",
   "metadata": {},
   "source": [
    "### Border Router\n",
    "Execute the following commands (in terminal #1), by replacing the \\<PLACEHOLDERS> with real info:"
   ]
  },
  {
   "cell_type": "markdown",
   "metadata": {},
   "source": [
    "`source /opt/riot.source`"
   ]
  },
  {
   "cell_type": "markdown",
   "metadata": {},
   "source": [
    "`cd RIOT`"
   ]
  },
  {
   "cell_type": "markdown",
   "metadata": {},
   "source": [
    "`make ETHOS_BAUDRATE=500000 DEFAULT_CHANNEL=<CHANNEL> BOARD=iotlab-m3 -C examples/gnrc_border_router clean all`"
   ]
  },
  {
   "cell_type": "markdown",
   "metadata": {},
   "source": [
    "`iotlab-node --flash examples/gnrc_border_router/bin/iotlab-m3/gnrc_border_router.elf -l saclay,m3,<ID>`"
   ]
  },
  {
   "cell_type": "markdown",
   "metadata": {},
   "source": [
    "`sudo ethos_uhcpd.py m3-<ID> tap<K> 2001:660:3207:04c1::1/64`"
   ]
  },
  {
   "cell_type": "markdown",
   "metadata": {},
   "source": [
    "Where:\n",
    "1. `DEFAULT_CHANNEL` refers to the ENV variable added on top\n",
    "2. `ID` is the M3 node number (ex: m3-1, ID is \"1\")\n",
    "3. `K` is the tap interface number (ex: tap0, tap1...)\n",
    "\n",
    "Always check that the interface and the channel are free"
   ]
  },
  {
   "cell_type": "markdown",
   "metadata": {},
   "source": [
    "### MQTT-SN broker\n",
    "We will use mosquitto.rsmb for communicating with the EC2 machine. Execute the following commands (in terminal #2):"
   ]
  },
  {
   "cell_type": "markdown",
   "metadata": {},
   "source": [
    "Create the following file inside the A8 folder:\n"
   ]
  },
  {
   "cell_type": "raw",
   "metadata": {},
   "source": [
    "# add some debug output\n",
    "trace_output protocol\n",
    "   \n",
    "# listen for MQTT-SN traffic on UDP port 1885\n",
    "listener 1885 INADDR_ANY mqtts\n",
    "  ipv6 true\n",
    "   \n",
    "# listen to MQTT connections on tcp port 1886\n",
    "listener 1886 INADDR_ANY\n",
    "\n",
    "connection local_bridge_to_mosquitto\n",
    "    address <EC2_PUBLIC_IPV4_ADDR>:<PORT>\n",
    "    topic sekkyone_out out\n",
    "    topic sekkyone_in in"
   ]
  },
  {
   "cell_type": "markdown",
   "metadata": {},
   "source": [
    "`ssh root@node-a8-<ID>`\n"
   ]
  },
  {
   "cell_type": "markdown",
   "metadata": {},
   "source": [
    "`cd A8`"
   ]
  },
  {
   "cell_type": "markdown",
   "metadata": {},
   "source": [
    "`ip -6 -o addr show eth0` // TO GET THE IP Address of the MQTT broker, global link"
   ]
  },
  {
   "cell_type": "markdown",
   "metadata": {},
   "source": [
    "`broker_mqtts config.conf`"
   ]
  },
  {
   "cell_type": "markdown",
   "metadata": {},
   "source": [
    "### Sekkyone application firmware\n",
    "For all the remaining reserved m3 nodes, execute the following commands:"
   ]
  },
  {
   "cell_type": "markdown",
   "metadata": {},
   "source": [
    "`source /opt/riot.source`"
   ]
  },
  {
   "cell_type": "markdown",
   "metadata": {},
   "source": [
    "`cd dev`"
   ]
  },
  {
   "cell_type": "markdown",
   "metadata": {},
   "source": [
    "where dev is the folder where `main.c` and `makefile` files are contained"
   ]
  },
  {
   "cell_type": "markdown",
   "metadata": {},
   "source": [
    "`make DEFAULT_CHANNEL=<CHANNEL> SERVER_ADDR=<MQTT_SERVER_ADDR> EMCUTE_ID=station<K> BOARD=iotlab-m3 -C . clean all`"
   ]
  },
  {
   "cell_type": "markdown",
   "metadata": {},
   "source": [
    "`iotlab-node --flash ./bin/iotlab-m3/sekkyone_mesh_network.elf -l saclay,m3,<ID>`"
   ]
  },
  {
   "cell_type": "markdown",
   "metadata": {},
   "source": [
    "Eventually, nc to the node\\[s\\] to see if everything works fine:"
   ]
  },
  {
   "cell_type": "markdown",
   "metadata": {},
   "source": [
    "`nc m3-<ID> 20000`"
   ]
  },
  {
   "cell_type": "markdown",
   "metadata": {},
   "source": [
    "### Free up the resources\n",
    "\n",
    "Once done, stop your experiment to free up the experiment nodes:"
   ]
  },
  {
   "cell_type": "code",
   "execution_count": 20,
   "metadata": {},
   "outputs": [
    {
     "name": "stdout",
     "output_type": "stream",
     "text": [
      "{\n",
      "    \"id\": 270129,\n",
      "    \"status\": \"Delete request registered\"\n",
      "}\n"
     ]
    }
   ],
   "source": [
    "!iotlab-experiment stop"
   ]
  },
  {
   "cell_type": "markdown",
   "metadata": {},
   "source": [
    "## Performance Evaluation"
   ]
  },
  {
   "cell_type": "code",
   "execution_count": 21,
   "metadata": {},
   "outputs": [],
   "source": [
    "!mkdir perf_last/$EXPERIMENT_ID\n",
    "!mkdir perf_last/$EXPERIMENT_ID/consumption\n",
    "!mkdir perf_last/$EXPERIMENT_ID/radio"
   ]
  },
  {
   "cell_type": "markdown",
   "metadata": {},
   "source": [
    "Let's copy consumption .oml files from ssh frontend to jupyter"
   ]
  },
  {
   "cell_type": "code",
   "execution_count": 22,
   "metadata": {},
   "outputs": [
    {
     "name": "stdout",
     "output_type": "stream",
     "text": [
      "m3_9.oml                                      100% 3614KB  13.9MB/s   00:00    \n",
      "m3_10.oml                                     100% 3644KB  22.7MB/s   00:00    \n",
      "m3_11.oml                                     100% 3553KB  24.8MB/s   00:00    \n",
      "m3_12.oml                                     100% 3593KB  26.4MB/s   00:00    \n",
      "a8_100.oml                                    100% 3555KB  27.6MB/s   00:00    \n"
     ]
    }
   ],
   "source": [
    "!scp -o StrictHostKeyChecking=no $LOGIN@$SITE.iot-lab.info:~/.iot-lab/$EXPERIMENT_ID/consumption/m3_$M3_BORDER.oml perf_last/$EXPERIMENT_ID/consumption/consumption_m3_border.oml\n",
    "!scp -o StrictHostKeyChecking=no $LOGIN@$SITE.iot-lab.info:~/.iot-lab/$EXPERIMENT_ID/consumption/m3_$M3_NODE_1.oml perf_last/$EXPERIMENT_ID/consumption/consumption_$M3_NODE_1.oml\n",
    "!scp -o StrictHostKeyChecking=no $LOGIN@$SITE.iot-lab.info:~/.iot-lab/$EXPERIMENT_ID/consumption/m3_$M3_NODE_2.oml perf_last/$EXPERIMENT_ID/consumption/consumption_$M3_NODE_2.oml\n",
    "!scp -o StrictHostKeyChecking=no $LOGIN@$SITE.iot-lab.info:~/.iot-lab/$EXPERIMENT_ID/consumption/m3_$M3_NODE_3.oml perf_last/$EXPERIMENT_ID/consumption/consumption_$M3_NODE_3.oml\n",
    "!scp -o StrictHostKeyChecking=no $LOGIN@$SITE.iot-lab.info:~/.iot-lab/$EXPERIMENT_ID/consumption/a8_$A8_NODE.oml perf_last/$EXPERIMENT_ID/consumption/consumption_a8.oml"
   ]
  },
  {
   "cell_type": "markdown",
   "metadata": {},
   "source": [
    "And now copy radio .oml files"
   ]
  },
  {
   "cell_type": "code",
   "execution_count": 23,
   "metadata": {},
   "outputs": [
    {
     "name": "stdout",
     "output_type": "stream",
     "text": [
      "m3_9.oml                                      100%  159KB   5.4MB/s   00:00    \n",
      "m3_10.oml                                     100%  159KB   5.4MB/s   00:00    \n",
      "m3_11.oml                                     100%  159KB   5.3MB/s   00:00    \n",
      "m3_12.oml                                     100%  159KB   5.3MB/s   00:00    \n"
     ]
    }
   ],
   "source": [
    "!scp -o StrictHostKeyChecking=no $LOGIN@$SITE.iot-lab.info:~/.iot-lab/$EXPERIMENT_ID/radio/m3_$M3_BORDER.oml perf_last/$EXPERIMENT_ID/radio/radio_m3_border.oml\n",
    "!scp -o StrictHostKeyChecking=no $LOGIN@$SITE.iot-lab.info:~/.iot-lab/$EXPERIMENT_ID/radio/m3_$M3_NODE_1.oml perf_last/$EXPERIMENT_ID/radio/radio_$M3_NODE_1.oml\n",
    "!scp -o StrictHostKeyChecking=no $LOGIN@$SITE.iot-lab.info:~/.iot-lab/$EXPERIMENT_ID/radio/m3_$M3_NODE_2.oml perf_last/$EXPERIMENT_ID/radio/radio_$M3_NODE_2.oml\n",
    "!scp -o StrictHostKeyChecking=no $LOGIN@$SITE.iot-lab.info:~/.iot-lab/$EXPERIMENT_ID/radio/m3_$M3_NODE_3.oml perf_last/$EXPERIMENT_ID/radio/radio_$M3_NODE_3.oml"
   ]
  },
  {
   "cell_type": "markdown",
   "metadata": {},
   "source": [
    "#### Analyze CONSUMPTION data"
   ]
  },
  {
   "cell_type": "code",
   "execution_count": 24,
   "metadata": {},
   "outputs": [
    {
     "name": "stdout",
     "output_type": "stream",
     "text": [
      "consumption_10.oml  consumption_12.oml\tconsumption_m3_border.oml\n",
      "consumption_11.oml  consumption_a8.oml\n"
     ]
    }
   ],
   "source": [
    "!ls perf_last/$EXPERIMENT_ID/consumption"
   ]
  },
  {
   "cell_type": "code",
   "execution_count": 25,
   "metadata": {},
   "outputs": [],
   "source": [
    "import pandas"
   ]
  },
  {
   "cell_type": "code",
   "execution_count": 60,
   "metadata": {},
   "outputs": [],
   "source": [
    "dataset_consumption = pandas.read_csv(\"./perf_last/270114/consumption/consumption_a8.oml\", sep='\\t', skiprows=9, header=0, names=[\"timestamp_s\", \"timestamp_us\", 'ign1', 'ign2', \"power\", \"voltage\", \"current\"])"
   ]
  },
  {
   "cell_type": "code",
   "execution_count": 61,
   "metadata": {},
   "outputs": [
    {
     "data": {
      "text/html": [
       "<div>\n",
       "<style scoped>\n",
       "    .dataframe tbody tr th:only-of-type {\n",
       "        vertical-align: middle;\n",
       "    }\n",
       "\n",
       "    .dataframe tbody tr th {\n",
       "        vertical-align: top;\n",
       "    }\n",
       "\n",
       "    .dataframe thead th {\n",
       "        text-align: right;\n",
       "    }\n",
       "</style>\n",
       "<table border=\"1\" class=\"dataframe\">\n",
       "  <thead>\n",
       "    <tr style=\"text-align: right;\">\n",
       "      <th></th>\n",
       "      <th>timestamp_s</th>\n",
       "      <th>timestamp_us</th>\n",
       "      <th>ign1</th>\n",
       "      <th>ign2</th>\n",
       "      <th>power</th>\n",
       "      <th>voltage</th>\n",
       "      <th>current</th>\n",
       "    </tr>\n",
       "  </thead>\n",
       "  <tbody>\n",
       "    <tr>\n",
       "      <th>2.993589</th>\n",
       "      <td>1</td>\n",
       "      <td>2</td>\n",
       "      <td>1624453183</td>\n",
       "      <td>124844</td>\n",
       "      <td>1.844845</td>\n",
       "      <td>4.93000</td>\n",
       "      <td>0.374170</td>\n",
       "    </tr>\n",
       "    <tr>\n",
       "      <th>2.993680</th>\n",
       "      <td>1</td>\n",
       "      <td>3</td>\n",
       "      <td>1624453183</td>\n",
       "      <td>191090</td>\n",
       "      <td>1.861327</td>\n",
       "      <td>4.93000</td>\n",
       "      <td>0.377540</td>\n",
       "    </tr>\n",
       "    <tr>\n",
       "      <th>2.993894</th>\n",
       "      <td>1</td>\n",
       "      <td>4</td>\n",
       "      <td>1624453183</td>\n",
       "      <td>257335</td>\n",
       "      <td>1.844234</td>\n",
       "      <td>4.93000</td>\n",
       "      <td>0.374024</td>\n",
       "    </tr>\n",
       "    <tr>\n",
       "      <th>2.993986</th>\n",
       "      <td>1</td>\n",
       "      <td>5</td>\n",
       "      <td>1624453183</td>\n",
       "      <td>323581</td>\n",
       "      <td>1.863769</td>\n",
       "      <td>4.93000</td>\n",
       "      <td>0.377979</td>\n",
       "    </tr>\n",
       "    <tr>\n",
       "      <th>2.994077</th>\n",
       "      <td>1</td>\n",
       "      <td>6</td>\n",
       "      <td>1624453183</td>\n",
       "      <td>389827</td>\n",
       "      <td>1.858886</td>\n",
       "      <td>4.93000</td>\n",
       "      <td>0.377076</td>\n",
       "    </tr>\n",
       "    <tr>\n",
       "      <th>...</th>\n",
       "      <td>...</td>\n",
       "      <td>...</td>\n",
       "      <td>...</td>\n",
       "      <td>...</td>\n",
       "      <td>...</td>\n",
       "      <td>...</td>\n",
       "      <td>...</td>\n",
       "    </tr>\n",
       "    <tr>\n",
       "      <th>732.552499</th>\n",
       "      <td>1</td>\n",
       "      <td>11025</td>\n",
       "      <td>1624453913</td>\n",
       "      <td>538048</td>\n",
       "      <td>2.314908</td>\n",
       "      <td>4.92500</td>\n",
       "      <td>0.470063</td>\n",
       "    </tr>\n",
       "    <tr>\n",
       "      <th>732.873263</th>\n",
       "      <td>1</td>\n",
       "      <td>11026</td>\n",
       "      <td>1624453913</td>\n",
       "      <td>604325</td>\n",
       "      <td>2.286216</td>\n",
       "      <td>4.92500</td>\n",
       "      <td>0.464227</td>\n",
       "    </tr>\n",
       "    <tr>\n",
       "      <th>732.874209</th>\n",
       "      <td>1</td>\n",
       "      <td>11027</td>\n",
       "      <td>1624453913</td>\n",
       "      <td>670571</td>\n",
       "      <td>2.265460</td>\n",
       "      <td>4.92375</td>\n",
       "      <td>0.460051</td>\n",
       "    </tr>\n",
       "    <tr>\n",
       "      <th>732.874819</th>\n",
       "      <td>1</td>\n",
       "      <td>11028</td>\n",
       "      <td>1624453913</td>\n",
       "      <td>736847</td>\n",
       "      <td>2.297815</td>\n",
       "      <td>4.92375</td>\n",
       "      <td>0.466669</td>\n",
       "    </tr>\n",
       "    <tr>\n",
       "      <th>732.875460</th>\n",
       "      <td>1</td>\n",
       "      <td>11029</td>\n",
       "      <td>1624453913</td>\n",
       "      <td>803124</td>\n",
       "      <td>2.292931</td>\n",
       "      <td>4.92375</td>\n",
       "      <td>0.465668</td>\n",
       "    </tr>\n",
       "  </tbody>\n",
       "</table>\n",
       "<p>11028 rows × 7 columns</p>\n",
       "</div>"
      ],
      "text/plain": [
       "            timestamp_s  timestamp_us        ign1    ign2     power  voltage  \\\n",
       "2.993589              1             2  1624453183  124844  1.844845  4.93000   \n",
       "2.993680              1             3  1624453183  191090  1.861327  4.93000   \n",
       "2.993894              1             4  1624453183  257335  1.844234  4.93000   \n",
       "2.993986              1             5  1624453183  323581  1.863769  4.93000   \n",
       "2.994077              1             6  1624453183  389827  1.858886  4.93000   \n",
       "...                 ...           ...         ...     ...       ...      ...   \n",
       "732.552499            1         11025  1624453913  538048  2.314908  4.92500   \n",
       "732.873263            1         11026  1624453913  604325  2.286216  4.92500   \n",
       "732.874209            1         11027  1624453913  670571  2.265460  4.92375   \n",
       "732.874819            1         11028  1624453913  736847  2.297815  4.92375   \n",
       "732.875460            1         11029  1624453913  803124  2.292931  4.92375   \n",
       "\n",
       "             current  \n",
       "2.993589    0.374170  \n",
       "2.993680    0.377540  \n",
       "2.993894    0.374024  \n",
       "2.993986    0.377979  \n",
       "2.994077    0.377076  \n",
       "...              ...  \n",
       "732.552499  0.470063  \n",
       "732.873263  0.464227  \n",
       "732.874209  0.460051  \n",
       "732.874819  0.466669  \n",
       "732.875460  0.465668  \n",
       "\n",
       "[11028 rows x 7 columns]"
      ]
     },
     "execution_count": 61,
     "metadata": {},
     "output_type": "execute_result"
    }
   ],
   "source": [
    "dataset_consumption"
   ]
  },
  {
   "cell_type": "code",
   "execution_count": 62,
   "metadata": {},
   "outputs": [
    {
     "data": {
      "text/plain": [
       "Text(0.5, 0, 'Time (ms)')"
      ]
     },
     "execution_count": 62,
     "metadata": {},
     "output_type": "execute_result"
    },
    {
     "data": {
      "image/png": "[encoded data removed]",
      "text/plain": [
       "<Figure size 1008x288 with 1 Axes>"
      ]
     },
     "metadata": {
      "needs_background": "light"
     },
     "output_type": "display_data"
    }
   ],
   "source": [
    "ax = dataset_consumption.power.plot(figsize=(14,4), label='Power (W)')\n",
    "ax.set_ylabel('Power (W)')\n",
    "ax.set_xlabel('Time (ms)')"
   ]
  },
  {
   "cell_type": "code",
   "execution_count": 63,
   "metadata": {},
   "outputs": [
    {
     "data": {
      "text/plain": [
       "Text(0.5, 0, 'Time (ms)')"
      ]
     },
     "execution_count": 63,
     "metadata": {},
     "output_type": "execute_result"
    },
    {
     "data": {
      "image/png": "[encoded data removed]",
      "text/plain": [
       "<Figure size 1008x288 with 1 Axes>"
      ]
     },
     "metadata": {
      "needs_background": "light"
     },
     "output_type": "display_data"
    }
   ],
   "source": [
    "ax = dataset_consumption.current.plot(figsize=(14,4), label='Current (mAh)')\n",
    "ax.set_ylabel('Current (mAh)')\n",
    "ax.set_xlabel('Time (ms)')"
   ]
  },
  {
   "cell_type": "code",
   "execution_count": 65,
   "metadata": {},
   "outputs": [
    {
     "data": {
      "text/plain": [
       "Text(0.5, 0, 'Time (ms)')"
      ]
     },
     "execution_count": 65,
     "metadata": {},
     "output_type": "execute_result"
    },
    {
     "data": {
      "image/png": "[encoded data removed]",
      "text/plain": [
       "<Figure size 1008x288 with 1 Axes>"
      ]
     },
     "metadata": {
      "needs_background": "light"
     },
     "output_type": "display_data"
    }
   ],
   "source": [
    "ax = dataset_consumption.voltage.plot(figsize=(14,4), label='Voltage (V)')\n",
    "ax.set_ylabel('Voltage (V)')\n",
    "ax.set_xlabel('Time (ms)')"
   ]
  },
  {
   "cell_type": "markdown",
   "metadata": {},
   "source": [
    "#### Analyze RADIO data"
   ]
  },
  {
   "cell_type": "code",
   "execution_count": 32,
   "metadata": {},
   "outputs": [
    {
     "name": "stdout",
     "output_type": "stream",
     "text": [
      "radio_10.oml  radio_11.oml  radio_12.oml  radio_m3_border.oml\n"
     ]
    }
   ],
   "source": [
    "!ls perf_last/$EXPERIMENT_ID/radio"
   ]
  },
  {
   "cell_type": "code",
   "execution_count": 57,
   "metadata": {},
   "outputs": [],
   "source": [
    "dataset_radio = pandas.read_csv(\"./perf_last/270114/radio/radio_m3_border.oml\", sep='\\t', skiprows=9, header=0, names=[\"timestamp_s\", \"timestamp_us\", \"channel\", \"rssi\"])"
   ]
  },
  {
   "cell_type": "code",
   "execution_count": 58,
   "metadata": {},
   "outputs": [
    {
     "data": {
      "text/html": [
       "<div>\n",
       "<style scoped>\n",
       "    .dataframe tbody tr th:only-of-type {\n",
       "        vertical-align: middle;\n",
       "    }\n",
       "\n",
       "    .dataframe tbody tr th {\n",
       "        vertical-align: top;\n",
       "    }\n",
       "\n",
       "    .dataframe thead th {\n",
       "        text-align: right;\n",
       "    }\n",
       "</style>\n",
       "<table border=\"1\" class=\"dataframe\">\n",
       "  <thead>\n",
       "    <tr style=\"text-align: right;\">\n",
       "      <th></th>\n",
       "      <th></th>\n",
       "      <th></th>\n",
       "      <th>timestamp_s</th>\n",
       "      <th>timestamp_us</th>\n",
       "      <th>channel</th>\n",
       "      <th>rssi</th>\n",
       "    </tr>\n",
       "  </thead>\n",
       "  <tbody>\n",
       "    <tr>\n",
       "      <th>8.996079</th>\n",
       "      <th>2</th>\n",
       "      <th>2</th>\n",
       "      <td>1624453189</td>\n",
       "      <td>992297</td>\n",
       "      <td>20</td>\n",
       "      <td>-91</td>\n",
       "    </tr>\n",
       "    <tr>\n",
       "      <th>8.999558</th>\n",
       "      <th>2</th>\n",
       "      <th>3</th>\n",
       "      <td>1624453190</td>\n",
       "      <td>992304</td>\n",
       "      <td>20</td>\n",
       "      <td>-91</td>\n",
       "    </tr>\n",
       "    <tr>\n",
       "      <th>11.994276</th>\n",
       "      <th>2</th>\n",
       "      <th>4</th>\n",
       "      <td>1624453191</td>\n",
       "      <td>992310</td>\n",
       "      <td>20</td>\n",
       "      <td>-91</td>\n",
       "    </tr>\n",
       "    <tr>\n",
       "      <th>11.994826</th>\n",
       "      <th>2</th>\n",
       "      <th>5</th>\n",
       "      <td>1624453192</td>\n",
       "      <td>992316</td>\n",
       "      <td>20</td>\n",
       "      <td>-91</td>\n",
       "    </tr>\n",
       "    <tr>\n",
       "      <th>11.995436</th>\n",
       "      <th>2</th>\n",
       "      <th>6</th>\n",
       "      <td>1624453193</td>\n",
       "      <td>992322</td>\n",
       "      <td>20</td>\n",
       "      <td>-91</td>\n",
       "    </tr>\n",
       "    <tr>\n",
       "      <th>...</th>\n",
       "      <th>...</th>\n",
       "      <th>...</th>\n",
       "      <td>...</td>\n",
       "      <td>...</td>\n",
       "      <td>...</td>\n",
       "      <td>...</td>\n",
       "    </tr>\n",
       "    <tr>\n",
       "      <th>729.000311</th>\n",
       "      <th>2</th>\n",
       "      <th>721</th>\n",
       "      <td>1624453908</td>\n",
       "      <td>998896</td>\n",
       "      <td>20</td>\n",
       "      <td>-91</td>\n",
       "    </tr>\n",
       "    <tr>\n",
       "      <th>729.000494</th>\n",
       "      <th>2</th>\n",
       "      <th>722</th>\n",
       "      <td>1624453909</td>\n",
       "      <td>998902</td>\n",
       "      <td>20</td>\n",
       "      <td>-91</td>\n",
       "    </tr>\n",
       "    <tr>\n",
       "      <th>729.000677</th>\n",
       "      <th>2</th>\n",
       "      <th>723</th>\n",
       "      <td>1624453910</td>\n",
       "      <td>998877</td>\n",
       "      <td>20</td>\n",
       "      <td>-91</td>\n",
       "    </tr>\n",
       "    <tr>\n",
       "      <th>731.939153</th>\n",
       "      <th>2</th>\n",
       "      <th>724</th>\n",
       "      <td>1624453911</td>\n",
       "      <td>998914</td>\n",
       "      <td>20</td>\n",
       "      <td>-91</td>\n",
       "    </tr>\n",
       "    <tr>\n",
       "      <th>731.939366</th>\n",
       "      <th>2</th>\n",
       "      <th>725</th>\n",
       "      <td>1624453912</td>\n",
       "      <td>998920</td>\n",
       "      <td>20</td>\n",
       "      <td>-91</td>\n",
       "    </tr>\n",
       "  </tbody>\n",
       "</table>\n",
       "<p>724 rows × 4 columns</p>\n",
       "</div>"
      ],
      "text/plain": [
       "                  timestamp_s  timestamp_us  channel  rssi\n",
       "8.996079   2 2     1624453189        992297       20   -91\n",
       "8.999558   2 3     1624453190        992304       20   -91\n",
       "11.994276  2 4     1624453191        992310       20   -91\n",
       "11.994826  2 5     1624453192        992316       20   -91\n",
       "11.995436  2 6     1624453193        992322       20   -91\n",
       "...                       ...           ...      ...   ...\n",
       "729.000311 2 721   1624453908        998896       20   -91\n",
       "729.000494 2 722   1624453909        998902       20   -91\n",
       "729.000677 2 723   1624453910        998877       20   -91\n",
       "731.939153 2 724   1624453911        998914       20   -91\n",
       "731.939366 2 725   1624453912        998920       20   -91\n",
       "\n",
       "[724 rows x 4 columns]"
      ]
     },
     "execution_count": 58,
     "metadata": {},
     "output_type": "execute_result"
    }
   ],
   "source": [
    "dataset_radio"
   ]
  },
  {
   "cell_type": "code",
   "execution_count": 59,
   "metadata": {},
   "outputs": [
    {
     "data": {
      "text/plain": [
       "Text(0, 0.5, 'RSSI (dBm)')"
      ]
     },
     "execution_count": 59,
     "metadata": {},
     "output_type": "execute_result"
    },
    {
     "data": {
      "image/png": "[encoded data removed]",
      "text/plain": [
       "<Figure size 1008x288 with 1 Axes>"
      ]
     },
     "metadata": {
      "needs_background": "light"
     },
     "output_type": "display_data"
    }
   ],
   "source": [
    "ax = dataset_radio.rssi.plot(figsize=(14,4), label='RSSI (dBm)')\n",
    "ax.set_ylabel('RSSI (dBm)')\n"
   ]
  },
  {
   "cell_type": "code",
   "execution_count": null,
   "metadata": {},
   "outputs": [],
   "source": []
  }
 ],
 "metadata": {
  "kernelspec": {
   "display_name": "Python 3",
   "language": "python",
   "name": "python3"
  },
  "language_info": {
   "codemirror_mode": {
    "name": "ipython",
    "version": 3
   },
   "file_extension": ".py",
   "mimetype": "text/x-python",
   "name": "python",
   "nbconvert_exporter": "python",
   "pygments_lexer": "ipython3",
   "version": "3.8.6"
  }
 },
 "nbformat": 4,
 "nbformat_minor": 4
}
